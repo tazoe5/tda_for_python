{
 "cells": [
  {
   "cell_type": "markdown",
   "metadata": {},
   "source": [
    "# DCEで変換した音源に対してTDAを行う"
   ]
  },
  {
   "cell_type": "code",
   "execution_count": 3,
   "metadata": {},
   "outputs": [],
   "source": [
    "# import module\n",
    "import pyper\n",
    "import matplotlib.pyplot as plt\n",
    "import numpy as np\n",
    "\n",
    "from chaos import embedding_phase_space"
   ]
  },
  {
   "cell_type": "code",
   "execution_count": 4,
   "metadata": {},
   "outputs": [],
   "source": [
    "# define variables\n",
    "FILE = \"../samplevoice/arigato_yama-rei16k.wav\"\n",
    "SIZE = 256\n",
    "OUT = \"./vis_tda/\"\n",
    "DIM = 2"
   ]
  },
  {
   "cell_type": "markdown",
   "metadata": {},
   "source": [
    "### TDA関数の定義"
   ]
  },
  {
   "cell_type": "code",
   "execution_count": 5,
   "metadata": {},
   "outputs": [],
   "source": [
    "def tda(data, is_df=False):\n",
    "    r = pyper.R()\n",
    "    r(\"library(TDA)\")\n",
    "    r.assign(\"data\", data)\n",
    "    print(r(\"is.vector(data)\"))\n",
    "    r(\"Diag_Cir <- ripsDiag(X = data, maxdimension =1, maxscale = 5)\")\n",
    "    \n",
    "    # よくわからん\n",
    "    r(\"dimension_Cir <- Diag_Cir$diagram[, 1]\")\n",
    "    r(\"birth_Cir <- Diag_Cir$diagram[, 2]\")\n",
    "    r(\"death_Cir <- Diag_Cir$diagram[, 3]\")\n",
    "    r(\"Diag_Cir_DF <- data.frame(cbind(Dimension = dimension_Cir, Birth = birth_Cir, Death = death_Cir))\")\n",
    "    res = r.get(\"Diag_Cir_DF\")\n",
    "    if not is_df:\n",
    "        res = np.array(res)\n",
    "    return res"
   ]
  },
  {
   "cell_type": "markdown",
   "metadata": {},
   "source": [
    "### Test"
   ]
  },
  {
   "cell_type": "code",
   "execution_count": 10,
   "metadata": {},
   "outputs": [
    {
     "name": "stdout",
     "output_type": "stream",
     "text": [
      "file name: arigato_yama-rei16k\n",
      "delay time: 2\n",
      "embedding shape: (255, 2)\n",
      "<type 'numpy.ndarray'>\n",
      "(255, 2)\n",
      "<type 'numpy.ndarray'>\n",
      "(150, 2)\n"
     ]
    }
   ],
   "source": [
    "embedding, name = embedding_phase_space(FILE, SIZE, DIM)\n",
    "print(type(embedding))\n",
    "print(embedding.shape)\n",
    "print(type(data))\n",
    "print(data.shape)"
   ]
  },
  {
   "cell_type": "code",
   "execution_count": 16,
   "metadata": {},
   "outputs": [
    {
     "name": "stdout",
     "output_type": "stream",
     "text": [
      "(150, 2)\n",
      "<type 'numpy.ndarray'>\n",
      "try({is.vector(data)})\n",
      "[1] FALSE\n",
      "\n"
     ]
    }
   ],
   "source": [
    "data = np.load(\"data.npy\")\n",
    "print(data.shape)\n",
    "print(type(data))\n",
    "res = tda(data)\n",
    "dimension, birth, death = res[:, 0], res[:, 1], res[:, 2]"
   ]
  },
  {
   "cell_type": "code",
   "execution_count": 17,
   "metadata": {},
   "outputs": [
    {
     "data": {
      "text/plain": [
       "<matplotlib.legend.Legend at 0x7efd0573aed0>"
      ]
     },
     "execution_count": 17,
     "metadata": {},
     "output_type": "execute_result"
    },
    {
     "data": {
      "image/png": "[encoded data removed]",
      "text/plain": [
       "<Figure size 432x288 with 1 Axes>"
      ]
     },
     "metadata": {},
     "output_type": "display_data"
    }
   ],
   "source": [
    "%matplotlib inline\n",
    "plt.title(\"Persistent Homology\")\n",
    "plt.xlim(-0.5, 5.5)\n",
    "plt.ylim(-0.5, 5.5)\n",
    "plt.plot([-0.5, 5.5], [-0.5, 5.5], color='black')\n",
    "\n",
    "dim_0 = np.where(dimension == 0)\n",
    "dim_1 = np.where(dimension == 1)\n",
    "birth_0, birth_1 = birth[dim_0], birth[dim_1]\n",
    "death_0, death_1 = death[dim_0], death[dim_1]\n",
    "plt.scatter(birth_0, death_0, label=\"0\")\n",
    "plt.scatter(birth_1, death_1, label=\"1\")\n",
    "plt.legend()"
   ]
  },
  {
   "cell_type": "code",
   "execution_count": null,
   "metadata": {},
   "outputs": [],
   "source": []
  }
 ],
 "metadata": {
  "kernelspec": {
   "display_name": "Python 2",
   "language": "python",
   "name": "python2"
  },
  "language_info": {
   "codemirror_mode": {
    "name": "ipython",
    "version": 2
   },
   "file_extension": ".py",
   "mimetype": "text/x-python",
   "name": "python",
   "nbconvert_exporter": "python",
   "pygments_lexer": "ipython2",
   "version": "2.7.12"
  }
 },
 "nbformat": 4,
 "nbformat_minor": 2
}
