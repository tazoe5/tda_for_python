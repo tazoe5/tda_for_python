{
 "cells": [
  {
   "cell_type": "markdown",
   "metadata": {},
   "source": [
    "# Python から R を動かす\n",
    "\n",
    "ライブラリ`PypeR` を使用することで Python 上から R を動かすことができる。\n",
    "\n",
    "```\n",
    "pip install pyper\n",
    "```\n",
    "### 使い方\n",
    "以降のセル参照\n",
    "`pyper.R()`を作り、Rインタプリタのように行いたい処理を書くだけ。\n",
    "`pd.DataFrame`オブジェクトをR上で扱うためにはインスタンス生成時に引数`use_pahdas=\"True\"`とする。\n",
    "\n",
    "### 注意\n",
    "**`r`インスタンスに記述したRのコードが間違っている場合、エラーは出ず動作が停止する**\n",
    "\n",
    "なかなか終わらないなあなんてハマる原因。"
   ]
  },
  {
   "cell_type": "code",
   "execution_count": 103,
   "metadata": {},
   "outputs": [
    {
     "name": "stdout",
     "output_type": "stream",
     "text": [
      "try({library(TDA)})\n",
      "\n",
      "try({library(ggplot2)})\n",
      "\n"
     ]
    }
   ],
   "source": [
    "import numpy as np\n",
    "import pandas as pd\n",
    "import pyper\n",
    "r = pyper.R(use_pandas=\"True\")\n",
    "print(r(\"library(TDA)\"))\n",
    "print(r(\"library(ggplot2)\"))"
   ]
  },
  {
   "cell_type": "code",
   "execution_count": 104,
   "metadata": {},
   "outputs": [
    {
     "name": "stdout",
     "output_type": "stream",
     "text": [
      "try({X1 <- circleUnif(100) * 2 + rnorm(100, 0, 0.03)})\n",
      "\n",
      "try({X2 <- circleUnif(50) * 0.3 + c(1.65,1.65) + + rnorm(50, 0, 0.02)})\n",
      "\n",
      "try({X <- rbind(X1, X2)})\n",
      "\n",
      "try({X <- data.frame(x = X[, 1], y = X[, 2])})\n",
      "\n"
     ]
    }
   ],
   "source": [
    "print(r(\"X1 <- circleUnif(100) * 2 + rnorm(100, 0, 0.03)\"))\n",
    "print(r(\"X2 <- circleUnif(50) * 0.3 + c(1.65,1.65) + + rnorm(50, 0, 0.02)\"))\n",
    "print(r(\"X <- rbind(X1, X2)\"))\n",
    "print(r(\"X <- data.frame(x = X[, 1], y = X[, 2])\"))"
   ]
  },
  {
   "cell_type": "markdown",
   "metadata": {},
   "source": [
    "`ggplot`はうまく動かない？"
   ]
  },
  {
   "cell_type": "code",
   "execution_count": 105,
   "metadata": {},
   "outputs": [
    {
     "name": "stdout",
     "output_type": "stream",
     "text": [
      "try({ggplot(X) + geom_point(aes(x = x, y = y))})\n",
      "\n"
     ]
    }
   ],
   "source": [
    "print(r(\"ggplot(X) + geom_point(aes(x = x, y = y))\"))"
   ]
  },
  {
   "cell_type": "markdown",
   "metadata": {},
   "source": [
    "### RとPythonで変数の受け渡し"
   ]
  },
  {
   "cell_type": "markdown",
   "metadata": {},
   "source": [
    "#### 変数を渡す\n",
    "Python から Rに変数を渡したい場合は`assign`メソッドを使う。"
   ]
  },
  {
   "cell_type": "code",
   "execution_count": 106,
   "metadata": {},
   "outputs": [
    {
     "data": {
      "text/html": [
       "<div>\n",
       "<table border=\"1\" class=\"dataframe\">\n",
       "  <thead>\n",
       "    <tr style=\"text-align: right;\">\n",
       "      <th></th>\n",
       "      <th>X</th>\n",
       "      <th>Y</th>\n",
       "    </tr>\n",
       "  </thead>\n",
       "  <tbody>\n",
       "    <tr>\n",
       "      <th>0</th>\n",
       "      <td>-4.774007</td>\n",
       "      <td>1.343770</td>\n",
       "    </tr>\n",
       "    <tr>\n",
       "      <th>1</th>\n",
       "      <td>2.745539</td>\n",
       "      <td>30.124241</td>\n",
       "    </tr>\n",
       "    <tr>\n",
       "      <th>2</th>\n",
       "      <td>6.846319</td>\n",
       "      <td>-5.663609</td>\n",
       "    </tr>\n",
       "  </tbody>\n",
       "</table>\n",
       "</div>"
      ],
      "text/plain": [
       "          X          Y\n",
       "0 -4.774007   1.343770\n",
       "1  2.745539  30.124241\n",
       "2  6.846319  -5.663609"
      ]
     },
     "execution_count": 106,
     "metadata": {},
     "output_type": "execute_result"
    }
   ],
   "source": [
    "n = 3\n",
    "x = np.random.normal(0, 10, n)\n",
    "y = np.random.normal(0, 10, n)\n",
    "df = {\"X\":x, \"Y\":y}\n",
    "df = pd.DataFrame(df)\n",
    "df"
   ]
  },
  {
   "cell_type": "code",
   "execution_count": 107,
   "metadata": {},
   "outputs": [
    {
     "name": "stdout",
     "output_type": "stream",
     "text": [
      "try({summary(p_df)})\n",
      "       X                Y         \n",
      " Min.   :-4.774   Min.   :-5.664  \n",
      " 1st Qu.:-1.014   1st Qu.:-2.160  \n",
      " Median : 2.746   Median : 1.344  \n",
      " Mean   : 1.606   Mean   : 8.601  \n",
      " 3rd Qu.: 4.796   3rd Qu.:15.734  \n",
      " Max.   : 6.846   Max.   :30.124  \n",
      "\n"
     ]
    }
   ],
   "source": [
    "r.assign(\"p_df\", df)\n",
    "print(r(\"summary(p_df)\"))"
   ]
  },
  {
   "cell_type": "markdown",
   "metadata": {},
   "source": [
    "#### 変数の受け取り\n",
    "R上の変数をPythonで受け取りたい場合は`get`メソッドを使う。`pd.DataFrame`の形で返ってくる\n",
    "\n",
    "Unicodeだからなのか分からないけど、`X.loc[\"x\"]`だとエラーが出てしまう"
   ]
  },
  {
   "cell_type": "code",
   "execution_count": 108,
   "metadata": {},
   "outputs": [
    {
     "name": "stdout",
     "output_type": "stream",
     "text": [
      "<class 'pandas.core.frame.DataFrame'>\n",
      "Index([u' x ', u' y '], dtype='object')\n"
     ]
    }
   ],
   "source": [
    "X = r.get(\"X\")\n",
    "print(type(X))\n",
    "print(X.columns)"
   ]
  },
  {
   "cell_type": "markdown",
   "metadata": {},
   "source": [
    "## 受け取ったデータを可視化してみる"
   ]
  },
  {
   "cell_type": "code",
   "execution_count": 109,
   "metadata": {},
   "outputs": [
    {
     "name": "stdout",
     "output_type": "stream",
     "text": [
      "((150,), (150,))\n"
     ]
    },
    {
     "data": {
      "text/plain": [
       "<matplotlib.collections.PathCollection at 0x7f78f7762710>"
      ]
     },
     "execution_count": 109,
     "metadata": {},
     "output_type": "execute_result"
    },
    {
     "data": {
      "image/png": "[encoded data removed]",
      "text/plain": [
       "<Figure size 432x288 with 1 Axes>"
      ]
     },
     "metadata": {},
     "output_type": "display_data"
    }
   ],
   "source": [
    "%matplotlib inline\n",
    "from matplotlib import pyplot as plt\n",
    "data = np.array(X)\n",
    "data_X, data_Y = data[:, 0], data[:, 1]\n",
    "print(data_X.shape, data_Y.shape)\n",
    "plt.scatter(data_X, data_Y)"
   ]
  },
  {
   "cell_type": "code",
   "execution_count": 110,
   "metadata": {},
   "outputs": [],
   "source": [
    "np.save(\"data.npy\", data)"
   ]
  }
 ],
 "metadata": {
  "kernelspec": {
   "display_name": "Python 2",
   "language": "python",
   "name": "python2"
  },
  "language_info": {
   "codemirror_mode": {
    "name": "ipython",
    "version": 2
   },
   "file_extension": ".py",
   "mimetype": "text/x-python",
   "name": "python",
   "nbconvert_exporter": "python",
   "pygments_lexer": "ipython2",
   "version": "2.7.12"
  }
 },
 "nbformat": 4,
 "nbformat_minor": 2
}
